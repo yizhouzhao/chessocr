{
 "cells": [
  {
   "cell_type": "code",
   "execution_count": 1,
   "metadata": {},
   "outputs": [],
   "source": [
    "import os\n",
    "import pandas as pd"
   ]
  },
  {
   "cell_type": "code",
   "execution_count": 2,
   "metadata": {},
   "outputs": [
    {
     "data": {
      "text/plain": [
       "'E:\\\\web\\\\chessocr'"
      ]
     },
     "execution_count": 2,
     "metadata": {},
     "output_type": "execute_result"
    }
   ],
   "source": [
    "os.getcwd()"
   ]
  },
  {
   "cell_type": "code",
   "execution_count": 3,
   "metadata": {},
   "outputs": [],
   "source": [
    "root_folder = \"training_data2\"\n",
    "fen_souce_folder = \"E:\\web\\data\""
   ]
  },
  {
   "cell_type": "code",
   "execution_count": 4,
   "metadata": {},
   "outputs": [],
   "source": [
    "label2piece = {\"0\":\"b\",\"1\":\"k\",\"2\":\"n\",\"3\":\"p\",\"4\":\"q\",\"5\":\"r\",\"6\":\"B\",\"7\":\"K\",\"8\":\"N\",\"9\":\"P\",\"10\":\"Q\",\"11\":\"R\",\"12\":\"z\"}\n",
    "piece2label = {item[1]:item[0] for item in label2piece.items()}"
   ]
  },
  {
   "cell_type": "code",
   "execution_count": 16,
   "metadata": {},
   "outputs": [],
   "source": [
    "book_data = pd.read_csv(\"E:\\\\web\\\\tactics2001\\\\data\\\\book.csv\")\n",
    "data_dict =  book_data.to_dict('records')"
   ]
  },
  {
   "cell_type": "code",
   "execution_count": 17,
   "metadata": {},
   "outputs": [],
   "source": [
    "def parseImageFEN(image_folder, fen):\n",
    "    fen_main = fen.split(\" \")[0]\n",
    "    piece_matrix = []\n",
    "    for line in fen_main.split(\"/\"):\n",
    "        piece_line = []\n",
    "        position = 0\n",
    "        for c in line:\n",
    "            if not c.isdigit():\n",
    "                piece_line.append(piece2label[c])\n",
    "                position += 1\n",
    "            else:\n",
    "                for i in range(int(c)):\n",
    "                    piece_line.append(piece2label[\"z\"])\n",
    "                    position += 1\n",
    "        piece_matrix.append(piece_line)\n",
    "    \n",
    "    label_list = []\n",
    "    image_list = []\n",
    "    \n",
    "    for image in os.listdir(image_folder):\n",
    "        num = int(image.split(\"s\")[0])\n",
    "        x = num % 8\n",
    "        y = num // 8\n",
    "        label = piece_matrix[x][y]\n",
    "        image_full_path =os.path.join(image_folder, image)\n",
    "        label_list.append(label)\n",
    "        image_list.append(image_full_path)\n",
    "        \n",
    "    return image_list,label_list"
   ]
  },
  {
   "cell_type": "code",
   "execution_count": 18,
   "metadata": {},
   "outputs": [
    {
     "name": "stdout",
     "output_type": "stream",
     "text": [
      "470 r1bqrbk1/5p1p/2pp2nB/pp5Q/4P3/PBNPR2P/1P4P1/R5K1 w - - 0 1\n",
      "(['E:\\\\web\\\\data\\\\470\\\\0s470.png', 'E:\\\\web\\\\data\\\\470\\\\10s470.png', 'E:\\\\web\\\\data\\\\470\\\\11s470.png', 'E:\\\\web\\\\data\\\\470\\\\12s470.png', 'E:\\\\web\\\\data\\\\470\\\\13s470.png', 'E:\\\\web\\\\data\\\\470\\\\14s470.png', 'E:\\\\web\\\\data\\\\470\\\\15s470.png', 'E:\\\\web\\\\data\\\\470\\\\16s470.png', 'E:\\\\web\\\\data\\\\470\\\\17s470.png', 'E:\\\\web\\\\data\\\\470\\\\18s470.png', 'E:\\\\web\\\\data\\\\470\\\\19s470.png', 'E:\\\\web\\\\data\\\\470\\\\1s470.png', 'E:\\\\web\\\\data\\\\470\\\\20s470.png', 'E:\\\\web\\\\data\\\\470\\\\21s470.png', 'E:\\\\web\\\\data\\\\470\\\\22s470.png', 'E:\\\\web\\\\data\\\\470\\\\23s470.png', 'E:\\\\web\\\\data\\\\470\\\\24s470.png', 'E:\\\\web\\\\data\\\\470\\\\25s470.png', 'E:\\\\web\\\\data\\\\470\\\\26s470.png', 'E:\\\\web\\\\data\\\\470\\\\27s470.png', 'E:\\\\web\\\\data\\\\470\\\\28s470.png', 'E:\\\\web\\\\data\\\\470\\\\29s470.png', 'E:\\\\web\\\\data\\\\470\\\\2s470.png', 'E:\\\\web\\\\data\\\\470\\\\30s470.png', 'E:\\\\web\\\\data\\\\470\\\\31s470.png', 'E:\\\\web\\\\data\\\\470\\\\32s470.png', 'E:\\\\web\\\\data\\\\470\\\\33s470.png', 'E:\\\\web\\\\data\\\\470\\\\34s470.png', 'E:\\\\web\\\\data\\\\470\\\\35s470.png', 'E:\\\\web\\\\data\\\\470\\\\36s470.png', 'E:\\\\web\\\\data\\\\470\\\\37s470.png', 'E:\\\\web\\\\data\\\\470\\\\38s470.png', 'E:\\\\web\\\\data\\\\470\\\\39s470.png', 'E:\\\\web\\\\data\\\\470\\\\3s470.png', 'E:\\\\web\\\\data\\\\470\\\\40s470.png', 'E:\\\\web\\\\data\\\\470\\\\41s470.png', 'E:\\\\web\\\\data\\\\470\\\\42s470.png', 'E:\\\\web\\\\data\\\\470\\\\43s470.png', 'E:\\\\web\\\\data\\\\470\\\\44s470.png', 'E:\\\\web\\\\data\\\\470\\\\45s470.png', 'E:\\\\web\\\\data\\\\470\\\\46s470.png', 'E:\\\\web\\\\data\\\\470\\\\47s470.png', 'E:\\\\web\\\\data\\\\470\\\\48s470.png', 'E:\\\\web\\\\data\\\\470\\\\49s470.png', 'E:\\\\web\\\\data\\\\470\\\\4s470.png', 'E:\\\\web\\\\data\\\\470\\\\50s470.png', 'E:\\\\web\\\\data\\\\470\\\\51s470.png', 'E:\\\\web\\\\data\\\\470\\\\52s470.png', 'E:\\\\web\\\\data\\\\470\\\\53s470.png', 'E:\\\\web\\\\data\\\\470\\\\54s470.png', 'E:\\\\web\\\\data\\\\470\\\\55s470.png', 'E:\\\\web\\\\data\\\\470\\\\56s470.png', 'E:\\\\web\\\\data\\\\470\\\\57s470.png', 'E:\\\\web\\\\data\\\\470\\\\58s470.png', 'E:\\\\web\\\\data\\\\470\\\\59s470.png', 'E:\\\\web\\\\data\\\\470\\\\5s470.png', 'E:\\\\web\\\\data\\\\470\\\\60s470.png', 'E:\\\\web\\\\data\\\\470\\\\61s470.png', 'E:\\\\web\\\\data\\\\470\\\\62s470.png', 'E:\\\\web\\\\data\\\\470\\\\63s470.png', 'E:\\\\web\\\\data\\\\470\\\\6s470.png', 'E:\\\\web\\\\data\\\\470\\\\7s470.png', 'E:\\\\web\\\\data\\\\470\\\\8s470.png', 'E:\\\\web\\\\data\\\\470\\\\9s470.png'], ['5', '12', '3', '12', '6', '9', '12', '0', '12', '3', '12', '12', '12', '8', '12', '12', '4', '12', '3', '12', '12', '9', '12', '12', '12', '5', '12', '12', '12', '9', '11', '12', '12', '3', '0', '3', '12', '12', '12', '12', '12', '12', '1', '12', '12', '2', '12', '12', '12', '9', '7', '12', '3', '6', '10', '9', '12', '9', '12', '12', '12', '11', '12', '12'])\n",
      "472 r1bqr1k1/1p1nnpb1/p5pp/2P1p1B1/B3N3/5N2/P4PPP/2RQR1K1 w - - 0 1\n",
      "(['E:\\\\web\\\\data\\\\472\\\\0s472.png', 'E:\\\\web\\\\data\\\\472\\\\10s472.png', 'E:\\\\web\\\\data\\\\472\\\\11s472.png', 'E:\\\\web\\\\data\\\\472\\\\12s472.png', 'E:\\\\web\\\\data\\\\472\\\\13s472.png', 'E:\\\\web\\\\data\\\\472\\\\14s472.png', 'E:\\\\web\\\\data\\\\472\\\\15s472.png', 'E:\\\\web\\\\data\\\\472\\\\16s472.png', 'E:\\\\web\\\\data\\\\472\\\\17s472.png', 'E:\\\\web\\\\data\\\\472\\\\18s472.png', 'E:\\\\web\\\\data\\\\472\\\\19s472.png', 'E:\\\\web\\\\data\\\\472\\\\1s472.png', 'E:\\\\web\\\\data\\\\472\\\\20s472.png', 'E:\\\\web\\\\data\\\\472\\\\21s472.png', 'E:\\\\web\\\\data\\\\472\\\\22s472.png', 'E:\\\\web\\\\data\\\\472\\\\23s472.png', 'E:\\\\web\\\\data\\\\472\\\\24s472.png', 'E:\\\\web\\\\data\\\\472\\\\25s472.png', 'E:\\\\web\\\\data\\\\472\\\\26s472.png', 'E:\\\\web\\\\data\\\\472\\\\27s472.png', 'E:\\\\web\\\\data\\\\472\\\\28s472.png', 'E:\\\\web\\\\data\\\\472\\\\29s472.png', 'E:\\\\web\\\\data\\\\472\\\\2s472.png', 'E:\\\\web\\\\data\\\\472\\\\30s472.png', 'E:\\\\web\\\\data\\\\472\\\\31s472.png', 'E:\\\\web\\\\data\\\\472\\\\32s472.png', 'E:\\\\web\\\\data\\\\472\\\\33s472.png', 'E:\\\\web\\\\data\\\\472\\\\34s472.png', 'E:\\\\web\\\\data\\\\472\\\\35s472.png', 'E:\\\\web\\\\data\\\\472\\\\36s472.png', 'E:\\\\web\\\\data\\\\472\\\\37s472.png', 'E:\\\\web\\\\data\\\\472\\\\38s472.png', 'E:\\\\web\\\\data\\\\472\\\\39s472.png', 'E:\\\\web\\\\data\\\\472\\\\3s472.png', 'E:\\\\web\\\\data\\\\472\\\\40s472.png', 'E:\\\\web\\\\data\\\\472\\\\41s472.png', 'E:\\\\web\\\\data\\\\472\\\\42s472.png', 'E:\\\\web\\\\data\\\\472\\\\43s472.png', 'E:\\\\web\\\\data\\\\472\\\\44s472.png', 'E:\\\\web\\\\data\\\\472\\\\45s472.png', 'E:\\\\web\\\\data\\\\472\\\\46s472.png', 'E:\\\\web\\\\data\\\\472\\\\47s472.png', 'E:\\\\web\\\\data\\\\472\\\\48s472.png', 'E:\\\\web\\\\data\\\\472\\\\49s472.png', 'E:\\\\web\\\\data\\\\472\\\\4s472.png', 'E:\\\\web\\\\data\\\\472\\\\50s472.png', 'E:\\\\web\\\\data\\\\472\\\\51s472.png', 'E:\\\\web\\\\data\\\\472\\\\52s472.png', 'E:\\\\web\\\\data\\\\472\\\\53s472.png', 'E:\\\\web\\\\data\\\\472\\\\54s472.png', 'E:\\\\web\\\\data\\\\472\\\\55s472.png', 'E:\\\\web\\\\data\\\\472\\\\56s472.png', 'E:\\\\web\\\\data\\\\472\\\\57s472.png', 'E:\\\\web\\\\data\\\\472\\\\58s472.png', 'E:\\\\web\\\\data\\\\472\\\\59s472.png', 'E:\\\\web\\\\data\\\\472\\\\5s472.png', 'E:\\\\web\\\\data\\\\472\\\\60s472.png', 'E:\\\\web\\\\data\\\\472\\\\61s472.png', 'E:\\\\web\\\\data\\\\472\\\\62s472.png', 'E:\\\\web\\\\data\\\\472\\\\63s472.png', 'E:\\\\web\\\\data\\\\472\\\\6s472.png', 'E:\\\\web\\\\data\\\\472\\\\7s472.png', 'E:\\\\web\\\\data\\\\472\\\\8s472.png', 'E:\\\\web\\\\data\\\\472\\\\9s472.png'], ['5', '12', '12', '12', '12', '12', '12', '0', '12', '12', '9', '12', '12', '12', '12', '11', '4', '2', '12', '12', '12', '12', '3', '12', '10', '5', '2', '12', '3', '8', '12', '12', '11', '12', '12', '3', '12', '12', '12', '8', '9', '12', '1', '0', '6', '3', '6', '12', '12', '9', '7', '12', '12', '3', '12', '12', '12', '12', '9', '12', '9', '12', '12', '3'])\n",
      "473 r1bqr1k1/pp3ppp/2n5/2bp4/3N1Pn1/1BP5/PP2N1PP/R1BQ1RK1 b - - 0 1\n",
      "(['E:\\\\web\\\\data\\\\473\\\\0s473.png', 'E:\\\\web\\\\data\\\\473\\\\10s473.png', 'E:\\\\web\\\\data\\\\473\\\\11s473.png', 'E:\\\\web\\\\data\\\\473\\\\12s473.png', 'E:\\\\web\\\\data\\\\473\\\\13s473.png', 'E:\\\\web\\\\data\\\\473\\\\14s473.png', 'E:\\\\web\\\\data\\\\473\\\\15s473.png', 'E:\\\\web\\\\data\\\\473\\\\16s473.png', 'E:\\\\web\\\\data\\\\473\\\\17s473.png', 'E:\\\\web\\\\data\\\\473\\\\18s473.png', 'E:\\\\web\\\\data\\\\473\\\\19s473.png', 'E:\\\\web\\\\data\\\\473\\\\1s473.png', 'E:\\\\web\\\\data\\\\473\\\\20s473.png', 'E:\\\\web\\\\data\\\\473\\\\21s473.png', 'E:\\\\web\\\\data\\\\473\\\\22s473.png', 'E:\\\\web\\\\data\\\\473\\\\23s473.png', 'E:\\\\web\\\\data\\\\473\\\\24s473.png', 'E:\\\\web\\\\data\\\\473\\\\25s473.png', 'E:\\\\web\\\\data\\\\473\\\\26s473.png', 'E:\\\\web\\\\data\\\\473\\\\27s473.png', 'E:\\\\web\\\\data\\\\473\\\\28s473.png', 'E:\\\\web\\\\data\\\\473\\\\29s473.png', 'E:\\\\web\\\\data\\\\473\\\\2s473.png', 'E:\\\\web\\\\data\\\\473\\\\30s473.png', 'E:\\\\web\\\\data\\\\473\\\\31s473.png', 'E:\\\\web\\\\data\\\\473\\\\32s473.png', 'E:\\\\web\\\\data\\\\473\\\\33s473.png', 'E:\\\\web\\\\data\\\\473\\\\34s473.png', 'E:\\\\web\\\\data\\\\473\\\\35s473.png', 'E:\\\\web\\\\data\\\\473\\\\36s473.png', 'E:\\\\web\\\\data\\\\473\\\\37s473.png', 'E:\\\\web\\\\data\\\\473\\\\38s473.png', 'E:\\\\web\\\\data\\\\473\\\\39s473.png', 'E:\\\\web\\\\data\\\\473\\\\3s473.png', 'E:\\\\web\\\\data\\\\473\\\\40s473.png', 'E:\\\\web\\\\data\\\\473\\\\41s473.png', 'E:\\\\web\\\\data\\\\473\\\\42s473.png', 'E:\\\\web\\\\data\\\\473\\\\43s473.png', 'E:\\\\web\\\\data\\\\473\\\\44s473.png', 'E:\\\\web\\\\data\\\\473\\\\45s473.png', 'E:\\\\web\\\\data\\\\473\\\\46s473.png', 'E:\\\\web\\\\data\\\\473\\\\47s473.png', 'E:\\\\web\\\\data\\\\473\\\\48s473.png', 'E:\\\\web\\\\data\\\\473\\\\49s473.png', 'E:\\\\web\\\\data\\\\473\\\\4s473.png', 'E:\\\\web\\\\data\\\\473\\\\50s473.png', 'E:\\\\web\\\\data\\\\473\\\\51s473.png', 'E:\\\\web\\\\data\\\\473\\\\52s473.png', 'E:\\\\web\\\\data\\\\473\\\\53s473.png', 'E:\\\\web\\\\data\\\\473\\\\54s473.png', 'E:\\\\web\\\\data\\\\473\\\\55s473.png', 'E:\\\\web\\\\data\\\\473\\\\56s473.png', 'E:\\\\web\\\\data\\\\473\\\\57s473.png', 'E:\\\\web\\\\data\\\\473\\\\58s473.png', 'E:\\\\web\\\\data\\\\473\\\\59s473.png', 'E:\\\\web\\\\data\\\\473\\\\5s473.png', 'E:\\\\web\\\\data\\\\473\\\\60s473.png', 'E:\\\\web\\\\data\\\\473\\\\61s473.png', 'E:\\\\web\\\\data\\\\473\\\\62s473.png', 'E:\\\\web\\\\data\\\\473\\\\63s473.png', 'E:\\\\web\\\\data\\\\473\\\\6s473.png', 'E:\\\\web\\\\data\\\\473\\\\7s473.png', 'E:\\\\web\\\\data\\\\473\\\\8s473.png', 'E:\\\\web\\\\data\\\\473\\\\9s473.png'], ['5', '12', '12', '12', '6', '9', '12', '0', '12', '2', '0', '3', '12', '9', '12', '6', '4', '12', '12', '3', '8', '12', '12', '12', '10', '5', '12', '12', '12', '12', '12', '8', '12', '12', '12', '3', '12', '12', '9', '12', '12', '11', '1', '3', '12', '12', '12', '2', '12', '9', '7', '12', '3', '12', '12', '12', '12', '12', '9', '12', '9', '11', '12', '3'])\n",
      "474 r4rk1/pp1n1q1p/2pbn1p1/3p2P1/3P2BN/1P2P3/PBQ2P2/2KR3R w - - 0 1\n",
      "(['E:\\\\web\\\\data\\\\474\\\\0s474.png', 'E:\\\\web\\\\data\\\\474\\\\10s474.png', 'E:\\\\web\\\\data\\\\474\\\\11s474.png', 'E:\\\\web\\\\data\\\\474\\\\12s474.png', 'E:\\\\web\\\\data\\\\474\\\\13s474.png', 'E:\\\\web\\\\data\\\\474\\\\14s474.png', 'E:\\\\web\\\\data\\\\474\\\\15s474.png', 'E:\\\\web\\\\data\\\\474\\\\16s474.png', 'E:\\\\web\\\\data\\\\474\\\\17s474.png', 'E:\\\\web\\\\data\\\\474\\\\18s474.png', 'E:\\\\web\\\\data\\\\474\\\\19s474.png', 'E:\\\\web\\\\data\\\\474\\\\1s474.png', 'E:\\\\web\\\\data\\\\474\\\\20s474.png', 'E:\\\\web\\\\data\\\\474\\\\21s474.png', 'E:\\\\web\\\\data\\\\474\\\\22s474.png', 'E:\\\\web\\\\data\\\\474\\\\23s474.png', 'E:\\\\web\\\\data\\\\474\\\\24s474.png', 'E:\\\\web\\\\data\\\\474\\\\25s474.png', 'E:\\\\web\\\\data\\\\474\\\\26s474.png', 'E:\\\\web\\\\data\\\\474\\\\27s474.png', 'E:\\\\web\\\\data\\\\474\\\\28s474.png', 'E:\\\\web\\\\data\\\\474\\\\29s474.png', 'E:\\\\web\\\\data\\\\474\\\\2s474.png', 'E:\\\\web\\\\data\\\\474\\\\30s474.png', 'E:\\\\web\\\\data\\\\474\\\\31s474.png', 'E:\\\\web\\\\data\\\\474\\\\32s474.png', 'E:\\\\web\\\\data\\\\474\\\\33s474.png', 'E:\\\\web\\\\data\\\\474\\\\34s474.png', 'E:\\\\web\\\\data\\\\474\\\\35s474.png', 'E:\\\\web\\\\data\\\\474\\\\36s474.png', 'E:\\\\web\\\\data\\\\474\\\\37s474.png', 'E:\\\\web\\\\data\\\\474\\\\38s474.png', 'E:\\\\web\\\\data\\\\474\\\\39s474.png', 'E:\\\\web\\\\data\\\\474\\\\3s474.png', 'E:\\\\web\\\\data\\\\474\\\\40s474.png', 'E:\\\\web\\\\data\\\\474\\\\41s474.png', 'E:\\\\web\\\\data\\\\474\\\\42s474.png', 'E:\\\\web\\\\data\\\\474\\\\43s474.png', 'E:\\\\web\\\\data\\\\474\\\\44s474.png', 'E:\\\\web\\\\data\\\\474\\\\45s474.png', 'E:\\\\web\\\\data\\\\474\\\\46s474.png', 'E:\\\\web\\\\data\\\\474\\\\47s474.png', 'E:\\\\web\\\\data\\\\474\\\\48s474.png', 'E:\\\\web\\\\data\\\\474\\\\49s474.png', 'E:\\\\web\\\\data\\\\474\\\\4s474.png', 'E:\\\\web\\\\data\\\\474\\\\50s474.png', 'E:\\\\web\\\\data\\\\474\\\\51s474.png', 'E:\\\\web\\\\data\\\\474\\\\52s474.png', 'E:\\\\web\\\\data\\\\474\\\\53s474.png', 'E:\\\\web\\\\data\\\\474\\\\54s474.png', 'E:\\\\web\\\\data\\\\474\\\\55s474.png', 'E:\\\\web\\\\data\\\\474\\\\56s474.png', 'E:\\\\web\\\\data\\\\474\\\\57s474.png', 'E:\\\\web\\\\data\\\\474\\\\58s474.png', 'E:\\\\web\\\\data\\\\474\\\\59s474.png', 'E:\\\\web\\\\data\\\\474\\\\5s474.png', 'E:\\\\web\\\\data\\\\474\\\\60s474.png', 'E:\\\\web\\\\data\\\\474\\\\61s474.png', 'E:\\\\web\\\\data\\\\474\\\\62s474.png', 'E:\\\\web\\\\data\\\\474\\\\63s474.png', 'E:\\\\web\\\\data\\\\474\\\\6s474.png', 'E:\\\\web\\\\data\\\\474\\\\7s474.png', 'E:\\\\web\\\\data\\\\474\\\\8s474.png', 'E:\\\\web\\\\data\\\\474\\\\9s474.png'], ['5', '12', '12', '12', '9', '6', '12', '12', '12', '3', '12', '3', '12', '12', '10', '7', '12', '2', '0', '3', '9', '12', '12', '12', '11', '12', '12', '2', '12', '12', '9', '12', '12', '12', '5', '4', '12', '12', '12', '12', '9', '12', '1', '12', '12', '3', '9', '6', '12', '12', '12', '12', '3', '12', '12', '12', '8', '12', '12', '11', '9', '12', '12', '3'])\n",
      "475 r2q1rk1/1ppb1ppp/3p1n2/2PPp3/PB2Pn2/2NB4/5PPP/R2Q1RK1 b - - 0 1\n",
      "(['E:\\\\web\\\\data\\\\475\\\\0s475.png', 'E:\\\\web\\\\data\\\\475\\\\10s475.png', 'E:\\\\web\\\\data\\\\475\\\\11s475.png', 'E:\\\\web\\\\data\\\\475\\\\12s475.png', 'E:\\\\web\\\\data\\\\475\\\\13s475.png', 'E:\\\\web\\\\data\\\\475\\\\14s475.png', 'E:\\\\web\\\\data\\\\475\\\\15s475.png', 'E:\\\\web\\\\data\\\\475\\\\16s475.png', 'E:\\\\web\\\\data\\\\475\\\\17s475.png', 'E:\\\\web\\\\data\\\\475\\\\18s475.png', 'E:\\\\web\\\\data\\\\475\\\\19s475.png', 'E:\\\\web\\\\data\\\\475\\\\1s475.png', 'E:\\\\web\\\\data\\\\475\\\\20s475.png', 'E:\\\\web\\\\data\\\\475\\\\21s475.png', 'E:\\\\web\\\\data\\\\475\\\\22s475.png', 'E:\\\\web\\\\data\\\\475\\\\23s475.png', 'E:\\\\web\\\\data\\\\475\\\\24s475.png', 'E:\\\\web\\\\data\\\\475\\\\25s475.png', 'E:\\\\web\\\\data\\\\475\\\\26s475.png', 'E:\\\\web\\\\data\\\\475\\\\27s475.png', 'E:\\\\web\\\\data\\\\475\\\\28s475.png', 'E:\\\\web\\\\data\\\\475\\\\29s475.png', 'E:\\\\web\\\\data\\\\475\\\\2s475.png', 'E:\\\\web\\\\data\\\\475\\\\30s475.png', 'E:\\\\web\\\\data\\\\475\\\\31s475.png', 'E:\\\\web\\\\data\\\\475\\\\32s475.png', 'E:\\\\web\\\\data\\\\475\\\\33s475.png', 'E:\\\\web\\\\data\\\\475\\\\34s475.png', 'E:\\\\web\\\\data\\\\475\\\\35s475.png', 'E:\\\\web\\\\data\\\\475\\\\36s475.png', 'E:\\\\web\\\\data\\\\475\\\\37s475.png', 'E:\\\\web\\\\data\\\\475\\\\38s475.png', 'E:\\\\web\\\\data\\\\475\\\\39s475.png', 'E:\\\\web\\\\data\\\\475\\\\3s475.png', 'E:\\\\web\\\\data\\\\475\\\\40s475.png', 'E:\\\\web\\\\data\\\\475\\\\41s475.png', 'E:\\\\web\\\\data\\\\475\\\\42s475.png', 'E:\\\\web\\\\data\\\\475\\\\43s475.png', 'E:\\\\web\\\\data\\\\475\\\\44s475.png', 'E:\\\\web\\\\data\\\\475\\\\45s475.png', 'E:\\\\web\\\\data\\\\475\\\\46s475.png', 'E:\\\\web\\\\data\\\\475\\\\47s475.png', 'E:\\\\web\\\\data\\\\475\\\\48s475.png', 'E:\\\\web\\\\data\\\\475\\\\49s475.png', 'E:\\\\web\\\\data\\\\475\\\\4s475.png', 'E:\\\\web\\\\data\\\\475\\\\50s475.png', 'E:\\\\web\\\\data\\\\475\\\\51s475.png', 'E:\\\\web\\\\data\\\\475\\\\52s475.png', 'E:\\\\web\\\\data\\\\475\\\\53s475.png', 'E:\\\\web\\\\data\\\\475\\\\54s475.png', 'E:\\\\web\\\\data\\\\475\\\\55s475.png', 'E:\\\\web\\\\data\\\\475\\\\56s475.png', 'E:\\\\web\\\\data\\\\475\\\\57s475.png', 'E:\\\\web\\\\data\\\\475\\\\58s475.png', 'E:\\\\web\\\\data\\\\475\\\\59s475.png', 'E:\\\\web\\\\data\\\\475\\\\5s475.png', 'E:\\\\web\\\\data\\\\475\\\\60s475.png', 'E:\\\\web\\\\data\\\\475\\\\61s475.png', 'E:\\\\web\\\\data\\\\475\\\\62s475.png', 'E:\\\\web\\\\data\\\\475\\\\63s475.png', 'E:\\\\web\\\\data\\\\475\\\\6s475.png', 'E:\\\\web\\\\data\\\\475\\\\7s475.png', 'E:\\\\web\\\\data\\\\475\\\\8s475.png', 'E:\\\\web\\\\data\\\\475\\\\9s475.png'], ['5', '12', '12', '6', '12', '12', '12', '12', '3', '12', '9', '12', '12', '8', '12', '12', '4', '0', '3', '9', '12', '6', '12', '12', '10', '12', '12', '12', '3', '9', '12', '12', '12', '12', '5', '3', '2', '12', '2', '12', '9', '11', '1', '3', '9', '12', '12', '12', '12', '9', '7', '12', '3', '12', '12', '12', '12', '12', '9', '12', '12', '11', '12', '3'])\n",
      "476 r2n1rk1/3qb1pp/p2p4/1p1bpP2/1P6/P2BBN1P/5PP1/2RQR1K1 w - - 0 1\n",
      "(['E:\\\\web\\\\data\\\\476\\\\0s476.png', 'E:\\\\web\\\\data\\\\476\\\\10s476.png', 'E:\\\\web\\\\data\\\\476\\\\11s476.png', 'E:\\\\web\\\\data\\\\476\\\\12s476.png', 'E:\\\\web\\\\data\\\\476\\\\13s476.png', 'E:\\\\web\\\\data\\\\476\\\\14s476.png', 'E:\\\\web\\\\data\\\\476\\\\15s476.png', 'E:\\\\web\\\\data\\\\476\\\\16s476.png', 'E:\\\\web\\\\data\\\\476\\\\17s476.png', 'E:\\\\web\\\\data\\\\476\\\\18s476.png', 'E:\\\\web\\\\data\\\\476\\\\19s476.png', 'E:\\\\web\\\\data\\\\476\\\\1s476.png', 'E:\\\\web\\\\data\\\\476\\\\20s476.png', 'E:\\\\web\\\\data\\\\476\\\\21s476.png', 'E:\\\\web\\\\data\\\\476\\\\22s476.png', 'E:\\\\web\\\\data\\\\476\\\\23s476.png', 'E:\\\\web\\\\data\\\\476\\\\24s476.png', 'E:\\\\web\\\\data\\\\476\\\\25s476.png', 'E:\\\\web\\\\data\\\\476\\\\26s476.png', 'E:\\\\web\\\\data\\\\476\\\\27s476.png', 'E:\\\\web\\\\data\\\\476\\\\28s476.png', 'E:\\\\web\\\\data\\\\476\\\\29s476.png', 'E:\\\\web\\\\data\\\\476\\\\2s476.png', 'E:\\\\web\\\\data\\\\476\\\\30s476.png', 'E:\\\\web\\\\data\\\\476\\\\31s476.png', 'E:\\\\web\\\\data\\\\476\\\\32s476.png', 'E:\\\\web\\\\data\\\\476\\\\33s476.png', 'E:\\\\web\\\\data\\\\476\\\\34s476.png', 'E:\\\\web\\\\data\\\\476\\\\35s476.png', 'E:\\\\web\\\\data\\\\476\\\\36s476.png', 'E:\\\\web\\\\data\\\\476\\\\37s476.png', 'E:\\\\web\\\\data\\\\476\\\\38s476.png', 'E:\\\\web\\\\data\\\\476\\\\39s476.png', 'E:\\\\web\\\\data\\\\476\\\\3s476.png', 'E:\\\\web\\\\data\\\\476\\\\40s476.png', 'E:\\\\web\\\\data\\\\476\\\\41s476.png', 'E:\\\\web\\\\data\\\\476\\\\42s476.png', 'E:\\\\web\\\\data\\\\476\\\\43s476.png', 'E:\\\\web\\\\data\\\\476\\\\44s476.png', 'E:\\\\web\\\\data\\\\476\\\\45s476.png', 'E:\\\\web\\\\data\\\\476\\\\46s476.png', 'E:\\\\web\\\\data\\\\476\\\\47s476.png', 'E:\\\\web\\\\data\\\\476\\\\48s476.png', 'E:\\\\web\\\\data\\\\476\\\\49s476.png', 'E:\\\\web\\\\data\\\\476\\\\4s476.png', 'E:\\\\web\\\\data\\\\476\\\\50s476.png', 'E:\\\\web\\\\data\\\\476\\\\51s476.png', 'E:\\\\web\\\\data\\\\476\\\\52s476.png', 'E:\\\\web\\\\data\\\\476\\\\53s476.png', 'E:\\\\web\\\\data\\\\476\\\\54s476.png', 'E:\\\\web\\\\data\\\\476\\\\55s476.png', 'E:\\\\web\\\\data\\\\476\\\\56s476.png', 'E:\\\\web\\\\data\\\\476\\\\57s476.png', 'E:\\\\web\\\\data\\\\476\\\\58s476.png', 'E:\\\\web\\\\data\\\\476\\\\59s476.png', 'E:\\\\web\\\\data\\\\476\\\\5s476.png', 'E:\\\\web\\\\data\\\\476\\\\60s476.png', 'E:\\\\web\\\\data\\\\476\\\\61s476.png', 'E:\\\\web\\\\data\\\\476\\\\62s476.png', 'E:\\\\web\\\\data\\\\476\\\\63s476.png', 'E:\\\\web\\\\data\\\\476\\\\6s476.png', 'E:\\\\web\\\\data\\\\476\\\\7s476.png', 'E:\\\\web\\\\data\\\\476\\\\8s476.png', 'E:\\\\web\\\\data\\\\476\\\\9s476.png'], ['5', '12', '3', '9', '12', '12', '12', '12', '12', '12', '12', '12', '12', '12', '12', '11', '2', '4', '3', '0', '12', '6', '3', '12', '10', '12', '0', '12', '3', '12', '6', '12', '11', '12', '5', '12', '12', '9', '12', '8', '9', '12', '1', '3', '12', '12', '12', '12', '12', '9', '7', '12', '3', '12', '12', '9', '12', '9', '12', '12', '12', '12', '12', '12'])\n",
      "477 r1br2k1/pp1qppbp/1nn5/1Np1Pp2/4B3/2P2N2/PP2Q1PP/R1B2RK1 w - - 0 1\n",
      "(['E:\\\\web\\\\data\\\\477\\\\0s477.png', 'E:\\\\web\\\\data\\\\477\\\\10s477.png', 'E:\\\\web\\\\data\\\\477\\\\11s477.png', 'E:\\\\web\\\\data\\\\477\\\\12s477.png', 'E:\\\\web\\\\data\\\\477\\\\13s477.png', 'E:\\\\web\\\\data\\\\477\\\\14s477.png', 'E:\\\\web\\\\data\\\\477\\\\15s477.png', 'E:\\\\web\\\\data\\\\477\\\\16s477.png', 'E:\\\\web\\\\data\\\\477\\\\17s477.png', 'E:\\\\web\\\\data\\\\477\\\\18s477.png', 'E:\\\\web\\\\data\\\\477\\\\19s477.png', 'E:\\\\web\\\\data\\\\477\\\\1s477.png', 'E:\\\\web\\\\data\\\\477\\\\20s477.png', 'E:\\\\web\\\\data\\\\477\\\\21s477.png', 'E:\\\\web\\\\data\\\\477\\\\22s477.png', 'E:\\\\web\\\\data\\\\477\\\\23s477.png', 'E:\\\\web\\\\data\\\\477\\\\24s477.png', 'E:\\\\web\\\\data\\\\477\\\\25s477.png', 'E:\\\\web\\\\data\\\\477\\\\26s477.png', 'E:\\\\web\\\\data\\\\477\\\\27s477.png', 'E:\\\\web\\\\data\\\\477\\\\28s477.png', 'E:\\\\web\\\\data\\\\477\\\\29s477.png', 'E:\\\\web\\\\data\\\\477\\\\2s477.png', 'E:\\\\web\\\\data\\\\477\\\\30s477.png', 'E:\\\\web\\\\data\\\\477\\\\31s477.png', 'E:\\\\web\\\\data\\\\477\\\\32s477.png', 'E:\\\\web\\\\data\\\\477\\\\33s477.png', 'E:\\\\web\\\\data\\\\477\\\\34s477.png', 'E:\\\\web\\\\data\\\\477\\\\35s477.png', 'E:\\\\web\\\\data\\\\477\\\\36s477.png', 'E:\\\\web\\\\data\\\\477\\\\37s477.png', 'E:\\\\web\\\\data\\\\477\\\\38s477.png', 'E:\\\\web\\\\data\\\\477\\\\39s477.png', 'E:\\\\web\\\\data\\\\477\\\\3s477.png', 'E:\\\\web\\\\data\\\\477\\\\40s477.png', 'E:\\\\web\\\\data\\\\477\\\\41s477.png', 'E:\\\\web\\\\data\\\\477\\\\42s477.png', 'E:\\\\web\\\\data\\\\477\\\\43s477.png', 'E:\\\\web\\\\data\\\\477\\\\44s477.png', 'E:\\\\web\\\\data\\\\477\\\\45s477.png', 'E:\\\\web\\\\data\\\\477\\\\46s477.png', 'E:\\\\web\\\\data\\\\477\\\\47s477.png', 'E:\\\\web\\\\data\\\\477\\\\48s477.png', 'E:\\\\web\\\\data\\\\477\\\\49s477.png', 'E:\\\\web\\\\data\\\\477\\\\4s477.png', 'E:\\\\web\\\\data\\\\477\\\\50s477.png', 'E:\\\\web\\\\data\\\\477\\\\51s477.png', 'E:\\\\web\\\\data\\\\477\\\\52s477.png', 'E:\\\\web\\\\data\\\\477\\\\53s477.png', 'E:\\\\web\\\\data\\\\477\\\\54s477.png', 'E:\\\\web\\\\data\\\\477\\\\55s477.png', 'E:\\\\web\\\\data\\\\477\\\\56s477.png', 'E:\\\\web\\\\data\\\\477\\\\57s477.png', 'E:\\\\web\\\\data\\\\477\\\\58s477.png', 'E:\\\\web\\\\data\\\\477\\\\59s477.png', 'E:\\\\web\\\\data\\\\477\\\\5s477.png', 'E:\\\\web\\\\data\\\\477\\\\60s477.png', 'E:\\\\web\\\\data\\\\477\\\\61s477.png', 'E:\\\\web\\\\data\\\\477\\\\62s477.png', 'E:\\\\web\\\\data\\\\477\\\\63s477.png', 'E:\\\\web\\\\data\\\\477\\\\6s477.png', 'E:\\\\web\\\\data\\\\477\\\\7s477.png', 'E:\\\\web\\\\data\\\\477\\\\8s477.png', 'E:\\\\web\\\\data\\\\477\\\\9s477.png'], ['5', '2', '8', '12', '12', '9', '12', '0', '12', '2', '3', '3', '12', '9', '12', '6', '5', '4', '12', '12', '12', '12', '12', '12', '12', '12', '3', '12', '9', '6', '12', '10', '12', '12', '12', '3', '12', '3', '12', '8', '12', '11', '1', '0', '12', '12', '12', '12', '12', '9', '7', '12', '3', '12', '12', '12', '12', '12', '9', '12', '9', '11', '12', '3'])\n"
     ]
    }
   ],
   "source": [
    "for image_folder in os.listdir(fen_souce_folder):\n",
    "    for data_item in data_dict:\n",
    "        if image_folder == str(data_item[\"no\"]):\n",
    "            print(data_item[\"no\"], data_item[\"FEN\"])\n",
    "            images_and_labels = parseImageFEN(os.path.join(fen_souce_folder, image_folder),data_item[\"FEN\"])\n",
    "            print(images_and_labels)"
   ]
  },
  {
   "cell_type": "code",
   "execution_count": null,
   "metadata": {},
   "outputs": [],
   "source": [
    "parseImageFEN(fen_souce_folder + \"\\\\470\", \"r1bqrbk1/5p1p/2pp2nB/pp5Q/4P3/PBNPR2P/1P4P1/R5K1\")"
   ]
  },
  {
   "cell_type": "code",
   "execution_count": null,
   "metadata": {},
   "outputs": [],
   "source": []
  }
 ],
 "metadata": {
  "kernelspec": {
   "display_name": "Python 3",
   "language": "python",
   "name": "python3"
  },
  "language_info": {
   "codemirror_mode": {
    "name": "ipython",
    "version": 3
   },
   "file_extension": ".py",
   "mimetype": "text/x-python",
   "name": "python",
   "nbconvert_exporter": "python",
   "pygments_lexer": "ipython3",
   "version": "3.7.9"
  }
 },
 "nbformat": 4,
 "nbformat_minor": 4
}
