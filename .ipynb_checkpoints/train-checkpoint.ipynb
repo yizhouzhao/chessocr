{
 "cells": [
  {
   "cell_type": "code",
   "execution_count": 1,
   "metadata": {},
   "outputs": [],
   "source": [
    "import os\n",
    "import torch\n",
    "import torch.nn as nn\n",
    "from tqdm.auto import tqdm\n",
    "\n",
    "import torchvision\n",
    "import PIL\n",
    "import matplotlib.pyplot as plt\n",
    "import numpy as np\n",
    "\n",
    "import pandas as pd"
   ]
  },
  {
   "cell_type": "code",
   "execution_count": 2,
   "metadata": {},
   "outputs": [],
   "source": [
    "root_folder = \"training_data2\"\n",
    "fen_souce_folder = \"E:\\web\\data\""
   ]
  },
  {
   "cell_type": "code",
   "execution_count": 3,
   "metadata": {},
   "outputs": [],
   "source": [
    "label2piece = {\"0\":\"b\",\"1\":\"k\",\"2\":\"n\",\"3\":\"p\",\"4\":\"q\",\"5\":\"r\",\"6\":\"B\",\"7\":\"K\",\"8\":\"N\",\"9\":\"P\",\"10\":\"Q\",\"11\":\"R\",\"12\":\"z\"}\n",
    "piece2label = {item[1]:item[0] for item in label2piece.items()}"
   ]
  },
  {
   "cell_type": "code",
   "execution_count": 4,
   "metadata": {},
   "outputs": [],
   "source": [
    "book_data = pd.read_csv(\"E:\\\\web\\\\tactics2001\\\\data\\\\book.csv\")\n",
    "data_dict =  book_data.to_dict('records')"
   ]
  },
  {
   "cell_type": "code",
   "execution_count": 5,
   "metadata": {},
   "outputs": [],
   "source": [
    "def conv3x3(in_channels, out_channels, **kwargs):\n",
    "    # The convolutional layers (for feature extraction) use standard layers from\n",
    "    # `torch.nn`, since they do not require adaptation.\n",
    "    # See `examples/maml/model.py` for comparison.\n",
    "    return nn.Sequential(\n",
    "        nn.Conv2d(in_channels, out_channels, kernel_size=3, padding=1, **kwargs),\n",
    "        nn.BatchNorm2d(out_channels, momentum=1., track_running_stats=False),\n",
    "        nn.ReLU(),\n",
    "        nn.MaxPool2d(2)\n",
    "    )"
   ]
  },
  {
   "cell_type": "code",
   "execution_count": 6,
   "metadata": {},
   "outputs": [],
   "source": [
    "class ConvolutionalNeuralNetwork(torch.nn.Module):\n",
    "    def __init__(self, in_channels, out_features, hidden_size=64):\n",
    "        super(ConvolutionalNeuralNetwork, self).__init__()\n",
    "        self.in_channels = in_channels\n",
    "        self.out_features = out_features\n",
    "        self.hidden_size = hidden_size\n",
    "\n",
    "        self.features = nn.Sequential(\n",
    "            conv3x3(in_channels, hidden_size),\n",
    "            conv3x3(hidden_size, hidden_size),\n",
    "            conv3x3(hidden_size, hidden_size),\n",
    "            conv3x3(hidden_size, hidden_size)\n",
    "        )\n",
    "\n",
    "        # Only the last (linear) layer is used for adaptation in ANIL\n",
    "        self.classifier = torch.nn.Linear(hidden_size, out_features)\n",
    "\n",
    "    def forward(self, inputs, params=None):\n",
    "        features = self.features(inputs)\n",
    "        # print(features.shape)\n",
    "        features = torch.mean(features.view(features.size(0), features.size(1), - 1), dim = -1)\n",
    "        # print(features.shape)\n",
    "        \n",
    "        logits = self.classifier(features)\n",
    "        return logits\n"
   ]
  },
  {
   "cell_type": "code",
   "execution_count": 7,
   "metadata": {},
   "outputs": [],
   "source": [
    "model = ConvolutionalNeuralNetwork(1, 13)"
   ]
  },
  {
   "cell_type": "code",
   "execution_count": 8,
   "metadata": {},
   "outputs": [],
   "source": [
    "a = torch.randn(10,1,64,64)"
   ]
  },
  {
   "cell_type": "code",
   "execution_count": 9,
   "metadata": {},
   "outputs": [],
   "source": [
    "def parseImageFEN(image_folder, fen):\n",
    "    fen_main = fen.split(\" \")[0]\n",
    "    piece_matrix = []\n",
    "    for line in fen_main.split(\"/\"):\n",
    "        piece_line = []\n",
    "        position = 0\n",
    "        for c in line:\n",
    "            if not c.isdigit():\n",
    "                piece_line.append(piece2label[c])\n",
    "                position += 1\n",
    "            else:\n",
    "                for i in range(int(c)):\n",
    "                    piece_line.append(piece2label[\"z\"])\n",
    "                    position += 1\n",
    "        piece_matrix.append(piece_line)\n",
    "    \n",
    "    label_list = []\n",
    "    image_list = []\n",
    "    \n",
    "    for image in os.listdir(image_folder):\n",
    "        num = int(image.split(\"s\")[0])\n",
    "        x = num % 8\n",
    "        y = num // 8\n",
    "        label = piece_matrix[x][y]\n",
    "        image_full_path =os.path.join(image_folder, image)\n",
    "        label_list.append(label)\n",
    "        image_list.append(image_full_path)\n",
    "        \n",
    "    return image_list,label_list"
   ]
  },
  {
   "cell_type": "code",
   "execution_count": 10,
   "metadata": {},
   "outputs": [],
   "source": [
    "class ChessDataset(torch.utils.data.Dataset):\n",
    "    'Characterizes a dataset for PyTorch'\n",
    "    def __init__(self, data_path, transform_style=None):\n",
    "        'Initialization'\n",
    "        self.data_path = data_path\n",
    "        self.labels = []\n",
    "        self.image_list = []\n",
    "        \n",
    "        self.load_image_list()\n",
    "        self.transform_style = transform_style\n",
    "        \n",
    "    def load_image_list(self):\n",
    "        for i, image_folder in enumerate(os.listdir(self.data_path)):\n",
    "            image_folder_path = os.path.join(self.data_path, image_folder)\n",
    "            print(i,image_folder)\n",
    "            for j, image in enumerate(os.listdir(image_folder_path)):\n",
    "                if j > 20:\n",
    "                    break\n",
    "                image_path = os.path.join(image_folder_path, image)\n",
    "                self.image_list.append(image_path)\n",
    "                self.labels.append(i)\n",
    "                \n",
    "    def load_addtional_data(self):\n",
    "        for image_folder in os.listdir(fen_souce_folder):\n",
    "            for data_item in data_dict:\n",
    "                if image_folder == str(data_item[\"no\"]):\n",
    "                    print(data_item[\"no\"], data_item[\"FEN\"])\n",
    "                    images_add, labels_add = parseImageFEN(os.path.join(fen_souce_folder, image_folder),data_item[\"FEN\"])\n",
    "                    for i in range(len(images_add)):\n",
    "                        self.image_list.append(images_add[i])\n",
    "                        self.labels.append(int(labels_add[i]))\n",
    "\n",
    "    def __len__(self):\n",
    "        return len(self.image_list)\n",
    "\n",
    "    def __getitem__(self, index):\n",
    "        'Generates one sample of data'\n",
    "        \n",
    "        single_image_path = self.image_list[index]\n",
    "        # Open image\n",
    "        X = PIL.Image.open(single_image_path).convert(\"L\")\n",
    "        #X = PIL.ImageOps.invert(img)\n",
    "        if self.transform_style:\n",
    "            X = self.transform_style(X)\n",
    "        \n",
    "        y = self.labels[index]\n",
    "\n",
    "        return X, y"
   ]
  },
  {
   "cell_type": "code",
   "execution_count": 11,
   "metadata": {},
   "outputs": [],
   "source": [
    "import torchvision.transforms.functional as TF\n",
    "import random\n",
    "from typing import Sequence\n",
    "\n",
    "class MyRotateTransform:\n",
    "    def __init__(self, angles: Sequence[int]):\n",
    "        self.angles = angles\n",
    "\n",
    "    def __call__(self, x):\n",
    "        angle = random.choice(self.angles)\n",
    "        return TF.rotate(x, angle)"
   ]
  },
  {
   "cell_type": "code",
   "execution_count": 12,
   "metadata": {},
   "outputs": [],
   "source": [
    "my_transforms = torchvision.transforms.Compose([\n",
    "    torchvision.transforms.RandomHorizontalFlip(),\n",
    "    torchvision.transforms.RandomVerticalFlip(),\n",
    "    MyRotateTransform([0,90,180,270]),\n",
    "    torchvision.transforms.ToTensor(),\n",
    "])"
   ]
  },
  {
   "cell_type": "code",
   "execution_count": 13,
   "metadata": {},
   "outputs": [
    {
     "name": "stdout",
     "output_type": "stream",
     "text": [
      "0 bB\n",
      "1 bK\n",
      "2 bN\n",
      "3 bP\n",
      "4 bQ\n",
      "5 bR\n",
      "6 wB\n",
      "7 wK\n",
      "8 wN\n",
      "9 wP\n",
      "10 wQ\n",
      "11 wR\n",
      "12 zbackground\n"
     ]
    }
   ],
   "source": [
    "cd = ChessDataset(\"training_data/\",my_transforms)"
   ]
  },
  {
   "cell_type": "code",
   "execution_count": 14,
   "metadata": {},
   "outputs": [
    {
     "data": {
      "text/plain": [
       "225"
      ]
     },
     "execution_count": 14,
     "metadata": {},
     "output_type": "execute_result"
    }
   ],
   "source": [
    "len(cd)"
   ]
  },
  {
   "cell_type": "code",
   "execution_count": 15,
   "metadata": {},
   "outputs": [
    {
     "name": "stdout",
     "output_type": "stream",
     "text": [
      "470 r1bqrbk1/5p1p/2pp2nB/pp5Q/4P3/PBNPR2P/1P4P1/R5K1 w - - 0 1\n",
      "472 r1bqr1k1/1p1nnpb1/p5pp/2P1p1B1/B3N3/5N2/P4PPP/2RQR1K1 w - - 0 1\n",
      "473 r1bqr1k1/pp3ppp/2n5/2bp4/3N1Pn1/1BP5/PP2N1PP/R1BQ1RK1 b - - 0 1\n",
      "474 r4rk1/pp1n1q1p/2pbn1p1/3p2P1/3P2BN/1P2P3/PBQ2P2/2KR3R w - - 0 1\n",
      "475 r2q1rk1/1ppb1ppp/3p1n2/2PPp3/PB2Pn2/2NB4/5PPP/R2Q1RK1 b - - 0 1\n",
      "476 r2n1rk1/3qb1pp/p2p4/1p1bpP2/1P6/P2BBN1P/5PP1/2RQR1K1 w - - 0 1\n",
      "477 r1br2k1/pp1qppbp/1nn5/1Np1Pp2/4B3/2P2N2/PP2Q1PP/R1B2RK1 w - - 0 1\n"
     ]
    }
   ],
   "source": [
    "cd.load_addtional_data()"
   ]
  },
  {
   "cell_type": "code",
   "execution_count": 16,
   "metadata": {},
   "outputs": [
    {
     "name": "stdout",
     "output_type": "stream",
     "text": [
      "673\n"
     ]
    }
   ],
   "source": [
    "print(len(cd))"
   ]
  },
  {
   "cell_type": "code",
   "execution_count": 17,
   "metadata": {
    "scrolled": true
   },
   "outputs": [
    {
     "name": "stdout",
     "output_type": "stream",
     "text": [
      "416\n",
      "torch.Size([1, 64, 64])\n",
      "p\n"
     ]
    },
    {
     "data": {
      "image/png": "[encoded data removed]",
      "text/plain": [
       "<Figure size 432x288 with 1 Axes>"
      ]
     },
     "metadata": {
      "needs_background": "light"
     },
     "output_type": "display_data"
    }
   ],
   "source": [
    "random_index =np.random.randint(0, len(cd))\n",
    "plt.imshow(cd[random_index][0][0],cmap=\"gray\")\n",
    "print(random_index)\n",
    "print(cd[random_index][0].shape)\n",
    "print(label2piece[str(cd[random_index][1])])"
   ]
  },
  {
   "cell_type": "code",
   "execution_count": 18,
   "metadata": {},
   "outputs": [],
   "source": [
    "import math\n",
    "import torch\n",
    "import torch.nn as nn\n",
    "import torch.nn.functional as F\n",
    "import numpy as np\n",
    "\n",
    "def focal_loss(input_values, gamma):\n",
    "    \"\"\"Computes the focal loss\"\"\"\n",
    "    p = torch.exp(-input_values)\n",
    "    loss = (1 - p) ** gamma * input_values\n",
    "    return loss.mean()\n",
    "\n",
    "class FocalLoss(nn.Module):\n",
    "    def __init__(self, weight=None, gamma=0.):\n",
    "        super(FocalLoss, self).__init__()\n",
    "        assert gamma >= 0\n",
    "        self.gamma = gamma\n",
    "        self.weight = weight\n",
    "\n",
    "    def forward(self, input, target):\n",
    "        return focal_loss(F.cross_entropy(input, target, reduction='none', weight=self.weight), self.gamma)\n",
    "\n",
    "class LDAMLoss(nn.Module):\n",
    "    \n",
    "    def __init__(self, cls_num_list, max_m=0.5, weight=None, s=30):\n",
    "        super(LDAMLoss, self).__init__()\n",
    "        m_list = 1.0 / np.sqrt(np.sqrt(cls_num_list))\n",
    "        m_list = m_list * (max_m / np.max(m_list))\n",
    "        m_list = torch.cuda.FloatTensor(m_list)\n",
    "        self.m_list = m_list\n",
    "        assert s > 0\n",
    "        self.s = s\n",
    "        self.weight = weight\n",
    "\n",
    "    def forward(self, x, target):\n",
    "        index = torch.zeros_like(x, dtype=torch.uint8)\n",
    "        index.scatter_(1, target.data.view(-1, 1), 1)\n",
    "        \n",
    "        index_float = index.type(torch.cuda.FloatTensor)\n",
    "        batch_m = torch.matmul(self.m_list[None, :], index_float.transpose(0,1))\n",
    "        batch_m = batch_m.view((-1, 1))\n",
    "        x_m = x - batch_m\n",
    "    \n",
    "        output = torch.where(index, x_m, x)\n",
    "        return F.cross_entropy(self.s*output, target, weight=self.weight)"
   ]
  },
  {
   "cell_type": "code",
   "execution_count": 19,
   "metadata": {},
   "outputs": [],
   "source": [
    "train_dataset_len = int(0.8 * len(cd))\n",
    "test_dataset_len = len(cd) - train_dataset_len"
   ]
  },
  {
   "cell_type": "code",
   "execution_count": 21,
   "metadata": {},
   "outputs": [],
   "source": [
    "train_dataset, test_dataset = torch.utils.data.random_split(cd,[train_dataset_len, test_dataset_len])"
   ]
  },
  {
   "cell_type": "code",
   "execution_count": 24,
   "metadata": {},
   "outputs": [],
   "source": [
    "train_dataloader = torch.utils.data.DataLoader(train_dataset, batch_size=8, shuffle=True, num_workers=0)\n",
    "test_dataloader = torch.utils.data.DataLoader(test_dataset, batch_size=8, shuffle=True, num_workers=0)"
   ]
  },
  {
   "cell_type": "code",
   "execution_count": 25,
   "metadata": {},
   "outputs": [],
   "source": [
    "optimizer = torch.optim.Adam(model.parameters(), lr=0.001)"
   ]
  },
  {
   "cell_type": "code",
   "execution_count": 26,
   "metadata": {},
   "outputs": [],
   "source": [
    "epochs = 1"
   ]
  },
  {
   "cell_type": "code",
   "execution_count": 27,
   "metadata": {},
   "outputs": [],
   "source": [
    "loss_fun = FocalLoss(gamma=2)"
   ]
  },
  {
   "cell_type": "code",
   "execution_count": 28,
   "metadata": {},
   "outputs": [],
   "source": [
    "def get_accuracy(logits, targets):\n",
    "    \"\"\"Compute the accuracy (after adaptation) of MAML on the test/query points\n",
    "\n",
    "    Parameters\n",
    "    ----------\n",
    "    logits : `torch.FloatTensor` instance\n",
    "        Outputs/logits of the model on the query points. This tensor has shape\n",
    "        `(num_examples, num_classes)`.\n",
    "\n",
    "    targets : `torch.LongTensor` instance\n",
    "        A tensor containing the targets of the query points. This tensor has \n",
    "        shape `(num_examples,)`.\n",
    "\n",
    "    Returns\n",
    "    -------\n",
    "    accuracy : `torch.FloatTensor` instance\n",
    "        Mean accuracy on the query points\n",
    "    \"\"\"\n",
    "    _, predictions = torch.max(logits, dim=-1)\n",
    "    return torch.mean(predictions.eq(targets).float())"
   ]
  },
  {
   "cell_type": "code",
   "execution_count": 29,
   "metadata": {},
   "outputs": [
    {
     "data": {
      "application/vnd.jupyter.widget-view+json": {
       "model_id": "f3a1bc4928224666a74c4cc4a78d0f53",
       "version_major": 2,
       "version_minor": 0
      },
      "text/plain": [
       "HBox(children=(HTML(value=''), FloatProgress(value=0.0, max=68.0), HTML(value='')))"
      ]
     },
     "metadata": {},
     "output_type": "display_data"
    },
    {
     "name": "stdout",
     "output_type": "stream",
     "text": [
      "\n",
      "epoch: 0 avg loss train 1.38 acc 0.49 \n"
     ]
    }
   ],
   "source": [
    "for epoch in range(epochs):\n",
    "    loss_epoch_train = []\n",
    "    acc_epoch_train = []\n",
    "    acc_epoch_test = []\n",
    "    count = 0\n",
    "    model.train()\n",
    "    for batch_inputs, batch_targets in tqdm(train_dataloader):\n",
    "        #print(batch_inputs.shape)\n",
    "#         if torch.cuda.is_available():\n",
    "#             batch_inputs = batch_inputs.to(\"cuda\")\n",
    "#             batch_scores = batch_scores.to(\"cuda\")\n",
    "        \n",
    "        #plt.imshow(batch_inputs[0][0],cmap=\"gray\")\n",
    "        #plt.show()\n",
    "        \n",
    "    \n",
    "        batch_preds = model(batch_inputs)\n",
    "        \n",
    "        loss = loss_fun(batch_preds, batch_targets)\n",
    "        #print(batch_preds, batch_targets)\n",
    "        \n",
    "        optimizer.zero_grad()\n",
    "        loss.backward()\n",
    "        optimizer.step()\n",
    "        \n",
    "        loss_epoch_train.append(loss.item())\n",
    "        acc = get_accuracy(batch_preds, batch_targets).item()\n",
    "        #print(\"acc\", acc)\n",
    "        \n",
    "        acc_epoch_train.append(acc)\n",
    "    \n",
    "    print(\"epoch: {} avg loss train {:.2f} acc {:.2f} \".format(epoch, np.mean(loss_epoch_train), np.mean(acc_epoch_train)))\n",
    "        \n",
    "    model.eval()\n",
    "    for batch_inputs, batch_targets in tqdm(test_dataloader):\n",
    "        batch_preds = model(batch_inputs)\n",
    "        acc = get_accuracy(batch_preds, batch_targets).item()\n",
    "        acc_epoch_test.append(acc)\n",
    "        \n",
    "    print(\"epoch: {} avg acc test {:.2f} \".format(epoch, np.mean(acc_epoch_test)))"
   ]
  },
  {
   "cell_type": "code",
   "execution_count": 30,
   "metadata": {},
   "outputs": [],
   "source": [
    "label2piece = {\"0\":\"bB\",\"1\":\"bK\",\"2\":\"bN\",\"3\":\"bP\",\"4\":\"bQ\",\"5\":\"bR\",\"6\":\"wB\",\"7\":\"wK\",\"8\":\"wN\",\"9\":\"wP\",\"10\":\"wQ\",\"11\":\"wR\",\"12\":\"zbackground\"}"
   ]
  },
  {
   "cell_type": "code",
   "execution_count": 50,
   "metadata": {},
   "outputs": [
    {
     "name": "stdout",
     "output_type": "stream",
     "text": [
      "34\n",
      "1\n",
      "tensor([[-0.5718, -0.8955, -0.4151,  0.1390, -1.1218, -0.3210, -0.6315, -0.6251,\n",
      "         -0.6021,  0.2579, -0.9852, -0.4930,  0.8767]],\n",
      "       grad_fn=<AddmmBackward>)\n",
      "zbackground\n"
     ]
    },
    {
     "data": {
      "image/png": "[encoded data removed]",
      "text/plain": [
       "<Figure size 432x288 with 1 Axes>"
      ]
     },
     "metadata": {
      "needs_background": "light"
     },
     "output_type": "display_data"
    }
   ],
   "source": [
    "random_index = np.random.randint(len(cd))\n",
    "print(random_index)\n",
    "plt.imshow(cd[random_index][0][0],cmap=\"gray\")\n",
    "print(cd[random_index][1])\n",
    "output = model(cd[random_index][0].unsqueeze(0))\n",
    "print(output)\n",
    "print(label2piece[str(torch.argmax(output, dim=1).item())])"
   ]
  },
  {
   "cell_type": "code",
   "execution_count": null,
   "metadata": {},
   "outputs": [],
   "source": [
    "#torch.save(model.state_dict(), \"2_5_2021.pth\")"
   ]
  },
  {
   "cell_type": "code",
   "execution_count": null,
   "metadata": {},
   "outputs": [],
   "source": []
  }
 ],
 "metadata": {
  "kernelspec": {
   "display_name": "Python 3",
   "language": "python",
   "name": "python3"
  },
  "language_info": {
   "codemirror_mode": {
    "name": "ipython",
    "version": 3
   },
   "file_extension": ".py",
   "mimetype": "text/x-python",
   "name": "python",
   "nbconvert_exporter": "python",
   "pygments_lexer": "ipython3",
   "version": "3.7.9"
  }
 },
 "nbformat": 4,
 "nbformat_minor": 4
}
