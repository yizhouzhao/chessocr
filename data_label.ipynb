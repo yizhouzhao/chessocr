{
 "cells": [
  {
   "cell_type": "code",
   "execution_count": 1,
   "metadata": {},
   "outputs": [],
   "source": [
    "import os"
   ]
  },
  {
   "cell_type": "code",
   "execution_count": 2,
   "metadata": {},
   "outputs": [
    {
     "data": {
      "text/plain": [
       "'E:\\\\web\\\\chessocr'"
      ]
     },
     "execution_count": 2,
     "metadata": {},
     "output_type": "execute_result"
    }
   ],
   "source": [
    "os.getcwd()"
   ]
  },
  {
   "cell_type": "code",
   "execution_count": 3,
   "metadata": {},
   "outputs": [],
   "source": [
    "#os.chdir(os.path.join(os.getcwd(),\"src\"))"
   ]
  },
  {
   "cell_type": "code",
   "execution_count": 6,
   "metadata": {},
   "outputs": [],
   "source": [
    "from src.algorithm import *"
   ]
  },
  {
   "cell_type": "code",
   "execution_count": 7,
   "metadata": {},
   "outputs": [],
   "source": [
    "from PIL import Image"
   ]
  },
  {
   "cell_type": "code",
   "execution_count": null,
   "metadata": {},
   "outputs": [],
   "source": [
    "for i in range(13,16):\n",
    "    print(i)\n",
    "    image_name = str(i)\n",
    "\n",
    "    img = load_image(\"../examples/{}.jpg\".format(image_name))\n",
    "    edges = get_contours(img)\n",
    "    perspective = get_perspective_from_contours(edges[0])\n",
    "    print(perspective)\n",
    "\n",
    "    board =get_boards_from_perspective(img, perspective)\n",
    "\n",
    "    plt.imshow(board._board[-1].getImage())\n",
    "    plt.show()\n",
    "\n",
    "    image_folder = \"../data/\"\n",
    "\n",
    "    save_folder = image_folder + image_name\n",
    "    if not os.path.exists(save_folder):\n",
    "        os.makedirs(save_folder)\n",
    "\n",
    "    for i in range(len(board._board)): #len(board._board)\n",
    "        img = board._board[i].getImage()\n",
    "        plt.imshow(img)\n",
    "        im = Image.fromarray(img)\n",
    "        im.save(\"{}/{}.png\".format(save_folder, str(i)+\"s\" + image_name))\n",
    "        #image = plt.savefig(\"{}/{}.png\".format(save_folder, str(i)))"
   ]
  },
  {
   "cell_type": "code",
   "execution_count": 16,
   "metadata": {},
   "outputs": [],
   "source": []
  },
  {
   "cell_type": "code",
   "execution_count": null,
   "metadata": {},
   "outputs": [],
   "source": []
  }
 ],
 "metadata": {
  "kernelspec": {
   "display_name": "Python 3",
   "language": "python",
   "name": "python3"
  },
  "language_info": {
   "codemirror_mode": {
    "name": "ipython",
    "version": 3
   },
   "file_extension": ".py",
   "mimetype": "text/x-python",
   "name": "python",
   "nbconvert_exporter": "python",
   "pygments_lexer": "ipython3",
   "version": "3.7.9"
  }
 },
 "nbformat": 4,
 "nbformat_minor": 4
}
